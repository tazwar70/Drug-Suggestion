{
  "nbformat": 4,
  "nbformat_minor": 0,
  "metadata": {
    "colab": {
      "name": "Drug Suggestion.ipynb",
      "provenance": [],
      "collapsed_sections": [],
      "authorship_tag": "ABX9TyNZhCB1YwL9CaEwwPBh6S6B",
      "include_colab_link": true
    },
    "kernelspec": {
      "name": "python3",
      "display_name": "Python 3"
    }
  },
  "cells": [
    {
      "cell_type": "markdown",
      "metadata": {
        "id": "view-in-github",
        "colab_type": "text"
      },
      "source": [
        "<a href=\"https://colab.research.google.com/github/tazwar70/Drug-Suggestion/blob/main/Drug_Suggestion.ipynb\" target=\"_parent\"><img src=\"https://colab.research.google.com/assets/colab-badge.svg\" alt=\"Open In Colab\"/></a>"
      ]
    },
    {
      "cell_type": "markdown",
      "metadata": {
        "id": "rEYvqm6PFYea"
      },
      "source": [
        "# Initialize"
      ]
    },
    {
      "cell_type": "code",
      "metadata": {
        "id": "aUGt-NO2Dtdo"
      },
      "source": [
        "import numpy as np\r\n",
        "import pandas as pd\r\n",
        "import matplotlib.pyplot as plt\r\n",
        "import seaborn as sns\r\n",
        "plt.rcParams['figure.figsize'] = (10.0, 8.0)\r\n",
        "plt.style.use('seaborn-whitegrid')"
      ],
      "execution_count": 3,
      "outputs": []
    },
    {
      "cell_type": "markdown",
      "metadata": {
        "id": "S6u0H1xAFbbO"
      },
      "source": [
        "# Get Dataset\r\n",
        "\r\n",
        "The Data was originally collected from IBM."
      ]
    },
    {
      "cell_type": "code",
      "metadata": {
        "colab": {
          "base_uri": "https://localhost:8080/",
          "height": 402
        },
        "id": "0r5cUbEvD-7h",
        "outputId": "c5c91467-3d80-4c48-a2aa-8c7b2494f2da"
      },
      "source": [
        "df = pd.read_csv('https://raw.githubusercontent.com/tazwar70/Databases/main/drug_stats.csv')\r\n",
        "df"
      ],
      "execution_count": 4,
      "outputs": [
        {
          "output_type": "execute_result",
          "data": {
            "text/html": [
              "<div>\n",
              "<style scoped>\n",
              "    .dataframe tbody tr th:only-of-type {\n",
              "        vertical-align: middle;\n",
              "    }\n",
              "\n",
              "    .dataframe tbody tr th {\n",
              "        vertical-align: top;\n",
              "    }\n",
              "\n",
              "    .dataframe thead th {\n",
              "        text-align: right;\n",
              "    }\n",
              "</style>\n",
              "<table border=\"1\" class=\"dataframe\">\n",
              "  <thead>\n",
              "    <tr style=\"text-align: right;\">\n",
              "      <th></th>\n",
              "      <th>Age</th>\n",
              "      <th>Sex</th>\n",
              "      <th>BP</th>\n",
              "      <th>Cholesterol</th>\n",
              "      <th>Na_to_K</th>\n",
              "      <th>Drug</th>\n",
              "    </tr>\n",
              "  </thead>\n",
              "  <tbody>\n",
              "    <tr>\n",
              "      <th>0</th>\n",
              "      <td>23</td>\n",
              "      <td>F</td>\n",
              "      <td>HIGH</td>\n",
              "      <td>HIGH</td>\n",
              "      <td>25.355</td>\n",
              "      <td>drugY</td>\n",
              "    </tr>\n",
              "    <tr>\n",
              "      <th>1</th>\n",
              "      <td>47</td>\n",
              "      <td>M</td>\n",
              "      <td>LOW</td>\n",
              "      <td>HIGH</td>\n",
              "      <td>13.093</td>\n",
              "      <td>drugC</td>\n",
              "    </tr>\n",
              "    <tr>\n",
              "      <th>2</th>\n",
              "      <td>47</td>\n",
              "      <td>M</td>\n",
              "      <td>LOW</td>\n",
              "      <td>HIGH</td>\n",
              "      <td>10.114</td>\n",
              "      <td>drugC</td>\n",
              "    </tr>\n",
              "    <tr>\n",
              "      <th>3</th>\n",
              "      <td>28</td>\n",
              "      <td>F</td>\n",
              "      <td>NORMAL</td>\n",
              "      <td>HIGH</td>\n",
              "      <td>7.798</td>\n",
              "      <td>drugX</td>\n",
              "    </tr>\n",
              "    <tr>\n",
              "      <th>4</th>\n",
              "      <td>61</td>\n",
              "      <td>F</td>\n",
              "      <td>LOW</td>\n",
              "      <td>HIGH</td>\n",
              "      <td>18.043</td>\n",
              "      <td>drugY</td>\n",
              "    </tr>\n",
              "    <tr>\n",
              "      <th>...</th>\n",
              "      <td>...</td>\n",
              "      <td>...</td>\n",
              "      <td>...</td>\n",
              "      <td>...</td>\n",
              "      <td>...</td>\n",
              "      <td>...</td>\n",
              "    </tr>\n",
              "    <tr>\n",
              "      <th>195</th>\n",
              "      <td>56</td>\n",
              "      <td>F</td>\n",
              "      <td>LOW</td>\n",
              "      <td>HIGH</td>\n",
              "      <td>11.567</td>\n",
              "      <td>drugC</td>\n",
              "    </tr>\n",
              "    <tr>\n",
              "      <th>196</th>\n",
              "      <td>16</td>\n",
              "      <td>M</td>\n",
              "      <td>LOW</td>\n",
              "      <td>HIGH</td>\n",
              "      <td>12.006</td>\n",
              "      <td>drugC</td>\n",
              "    </tr>\n",
              "    <tr>\n",
              "      <th>197</th>\n",
              "      <td>52</td>\n",
              "      <td>M</td>\n",
              "      <td>NORMAL</td>\n",
              "      <td>HIGH</td>\n",
              "      <td>9.894</td>\n",
              "      <td>drugX</td>\n",
              "    </tr>\n",
              "    <tr>\n",
              "      <th>198</th>\n",
              "      <td>23</td>\n",
              "      <td>M</td>\n",
              "      <td>NORMAL</td>\n",
              "      <td>NORMAL</td>\n",
              "      <td>14.020</td>\n",
              "      <td>drugX</td>\n",
              "    </tr>\n",
              "    <tr>\n",
              "      <th>199</th>\n",
              "      <td>40</td>\n",
              "      <td>F</td>\n",
              "      <td>LOW</td>\n",
              "      <td>NORMAL</td>\n",
              "      <td>11.349</td>\n",
              "      <td>drugX</td>\n",
              "    </tr>\n",
              "  </tbody>\n",
              "</table>\n",
              "<p>200 rows × 6 columns</p>\n",
              "</div>"
            ],
            "text/plain": [
              "     Age Sex      BP Cholesterol  Na_to_K   Drug\n",
              "0     23   F    HIGH        HIGH   25.355  drugY\n",
              "1     47   M     LOW        HIGH   13.093  drugC\n",
              "2     47   M     LOW        HIGH   10.114  drugC\n",
              "3     28   F  NORMAL        HIGH    7.798  drugX\n",
              "4     61   F     LOW        HIGH   18.043  drugY\n",
              "..   ...  ..     ...         ...      ...    ...\n",
              "195   56   F     LOW        HIGH   11.567  drugC\n",
              "196   16   M     LOW        HIGH   12.006  drugC\n",
              "197   52   M  NORMAL        HIGH    9.894  drugX\n",
              "198   23   M  NORMAL      NORMAL   14.020  drugX\n",
              "199   40   F     LOW      NORMAL   11.349  drugX\n",
              "\n",
              "[200 rows x 6 columns]"
            ]
          },
          "metadata": {
            "tags": []
          },
          "execution_count": 4
        }
      ]
    },
    {
      "cell_type": "markdown",
      "metadata": {
        "id": "pls33TIXFe1w"
      },
      "source": [
        "# Clean Dataset"
      ]
    },
    {
      "cell_type": "code",
      "metadata": {
        "colab": {
          "base_uri": "https://localhost:8080/"
        },
        "id": "bCZQSNPPEFtg",
        "outputId": "efbefe1f-fc01-4ea7-cb05-7285e001323c"
      },
      "source": [
        "df.drop_duplicates"
      ],
      "execution_count": 5,
      "outputs": [
        {
          "output_type": "execute_result",
          "data": {
            "text/plain": [
              "<bound method DataFrame.drop_duplicates of      Age Sex      BP Cholesterol  Na_to_K   Drug\n",
              "0     23   F    HIGH        HIGH   25.355  drugY\n",
              "1     47   M     LOW        HIGH   13.093  drugC\n",
              "2     47   M     LOW        HIGH   10.114  drugC\n",
              "3     28   F  NORMAL        HIGH    7.798  drugX\n",
              "4     61   F     LOW        HIGH   18.043  drugY\n",
              "..   ...  ..     ...         ...      ...    ...\n",
              "195   56   F     LOW        HIGH   11.567  drugC\n",
              "196   16   M     LOW        HIGH   12.006  drugC\n",
              "197   52   M  NORMAL        HIGH    9.894  drugX\n",
              "198   23   M  NORMAL      NORMAL   14.020  drugX\n",
              "199   40   F     LOW      NORMAL   11.349  drugX\n",
              "\n",
              "[200 rows x 6 columns]>"
            ]
          },
          "metadata": {
            "tags": []
          },
          "execution_count": 5
        }
      ]
    },
    {
      "cell_type": "code",
      "metadata": {
        "colab": {
          "base_uri": "https://localhost:8080/"
        },
        "id": "2dQ5P22qE2Ik",
        "outputId": "39628905-f875-46fe-fd7d-44b2998fdb85"
      },
      "source": [
        "df.dropna"
      ],
      "execution_count": 6,
      "outputs": [
        {
          "output_type": "execute_result",
          "data": {
            "text/plain": [
              "<bound method DataFrame.dropna of      Age Sex      BP Cholesterol  Na_to_K   Drug\n",
              "0     23   F    HIGH        HIGH   25.355  drugY\n",
              "1     47   M     LOW        HIGH   13.093  drugC\n",
              "2     47   M     LOW        HIGH   10.114  drugC\n",
              "3     28   F  NORMAL        HIGH    7.798  drugX\n",
              "4     61   F     LOW        HIGH   18.043  drugY\n",
              "..   ...  ..     ...         ...      ...    ...\n",
              "195   56   F     LOW        HIGH   11.567  drugC\n",
              "196   16   M     LOW        HIGH   12.006  drugC\n",
              "197   52   M  NORMAL        HIGH    9.894  drugX\n",
              "198   23   M  NORMAL      NORMAL   14.020  drugX\n",
              "199   40   F     LOW      NORMAL   11.349  drugX\n",
              "\n",
              "[200 rows x 6 columns]>"
            ]
          },
          "metadata": {
            "tags": []
          },
          "execution_count": 6
        }
      ]
    },
    {
      "cell_type": "markdown",
      "metadata": {
        "id": "WiWS_6B3GWR8"
      },
      "source": [
        "# Building the Model"
      ]
    },
    {
      "cell_type": "markdown",
      "metadata": {
        "id": "XbYZxcFwKFYS"
      },
      "source": [
        "## Importing Sci-kit Learn"
      ]
    },
    {
      "cell_type": "code",
      "metadata": {
        "id": "WFwodob8E45o"
      },
      "source": [
        "from sklearn.tree import DecisionTreeClassifier\r\n",
        "from sklearn import metrics\r\n",
        "from sklearn import tree\r\n",
        "from sklearn import preprocessing\r\n",
        "from sklearn.model_selection import train_test_split"
      ],
      "execution_count": 7,
      "outputs": []
    },
    {
      "cell_type": "markdown",
      "metadata": {
        "id": "YDIq37m1Kkof"
      },
      "source": [
        "## Preprocessing"
      ]
    },
    {
      "cell_type": "code",
      "metadata": {
        "colab": {
          "base_uri": "https://localhost:8080/"
        },
        "id": "zPZUgFmlHr9E",
        "outputId": "bee4c3bd-db56-4434-d06b-661aecfbbc17"
      },
      "source": [
        "data = df.values\r\n",
        "data"
      ],
      "execution_count": 8,
      "outputs": [
        {
          "output_type": "execute_result",
          "data": {
            "text/plain": [
              "array([[23, 'F', 'HIGH', 'HIGH', 25.355, 'drugY'],\n",
              "       [47, 'M', 'LOW', 'HIGH', 13.093, 'drugC'],\n",
              "       [47, 'M', 'LOW', 'HIGH', 10.113999999999999, 'drugC'],\n",
              "       ...,\n",
              "       [52, 'M', 'NORMAL', 'HIGH', 9.894, 'drugX'],\n",
              "       [23, 'M', 'NORMAL', 'NORMAL', 14.02, 'drugX'],\n",
              "       [40, 'F', 'LOW', 'NORMAL', 11.349, 'drugX']], dtype=object)"
            ]
          },
          "metadata": {
            "tags": []
          },
          "execution_count": 8
        }
      ]
    },
    {
      "cell_type": "markdown",
      "metadata": {
        "id": "7ympvH3NKqmC"
      },
      "source": [
        "## Label Encoding"
      ]
    },
    {
      "cell_type": "code",
      "metadata": {
        "colab": {
          "base_uri": "https://localhost:8080/"
        },
        "id": "fHnpuwO9IvVd",
        "outputId": "a41e9564-9912-420c-fd8a-7df453a432e4"
      },
      "source": [
        "le_sex = preprocessing.LabelEncoder()\r\n",
        "le_sex.fit(['F','M'])\r\n",
        "data[:,1] = le_sex.transform(data[:,1]) \r\n",
        "\r\n",
        "\r\n",
        "le_BP = preprocessing.LabelEncoder()\r\n",
        "le_BP.fit([ 'LOW', 'NORMAL', 'HIGH'])\r\n",
        "data[:,2] = le_BP.transform(data[:,2])\r\n",
        "\r\n",
        "\r\n",
        "le_Chol = preprocessing.LabelEncoder()\r\n",
        "le_Chol.fit([ 'NORMAL', 'HIGH'])\r\n",
        "data[:,3] = le_Chol.transform(data[:,3])\r\n",
        "\r\n",
        "data"
      ],
      "execution_count": 9,
      "outputs": [
        {
          "output_type": "execute_result",
          "data": {
            "text/plain": [
              "array([[23, 0, 0, 0, 25.355, 'drugY'],\n",
              "       [47, 1, 1, 0, 13.093, 'drugC'],\n",
              "       [47, 1, 1, 0, 10.113999999999999, 'drugC'],\n",
              "       ...,\n",
              "       [52, 1, 2, 0, 9.894, 'drugX'],\n",
              "       [23, 1, 2, 1, 14.02, 'drugX'],\n",
              "       [40, 0, 1, 1, 11.349, 'drugX']], dtype=object)"
            ]
          },
          "metadata": {
            "tags": []
          },
          "execution_count": 9
        }
      ]
    },
    {
      "cell_type": "code",
      "metadata": {
        "colab": {
          "base_uri": "https://localhost:8080/"
        },
        "id": "DappA4c3JHhL",
        "outputId": "887cc282-1c7d-4bbf-ce90-fa603912b522"
      },
      "source": [
        "x = data[:,0:5]\r\n",
        "x[0:4]"
      ],
      "execution_count": 19,
      "outputs": [
        {
          "output_type": "execute_result",
          "data": {
            "text/plain": [
              "array([[23, 0, 0, 0, 25.355],\n",
              "       [47, 1, 1, 0, 13.093],\n",
              "       [47, 1, 1, 0, 10.113999999999999],\n",
              "       [28, 0, 2, 0, 7.797999999999999]], dtype=object)"
            ]
          },
          "metadata": {
            "tags": []
          },
          "execution_count": 19
        }
      ]
    },
    {
      "cell_type": "code",
      "metadata": {
        "colab": {
          "base_uri": "https://localhost:8080/"
        },
        "id": "VwPxboL6JY1v",
        "outputId": "5ede9cca-b8ac-46cd-d8a3-dd78b0264099"
      },
      "source": [
        "y = df.Drug\r\n",
        "y"
      ],
      "execution_count": 26,
      "outputs": [
        {
          "output_type": "execute_result",
          "data": {
            "text/plain": [
              "0      drugY\n",
              "1      drugC\n",
              "2      drugC\n",
              "3      drugX\n",
              "4      drugY\n",
              "       ...  \n",
              "195    drugC\n",
              "196    drugC\n",
              "197    drugX\n",
              "198    drugX\n",
              "199    drugX\n",
              "Name: Drug, Length: 200, dtype: object"
            ]
          },
          "metadata": {
            "tags": []
          },
          "execution_count": 26
        }
      ]
    },
    {
      "cell_type": "markdown",
      "metadata": {
        "id": "s8tqCelbKzT7"
      },
      "source": [
        "## Test-train split"
      ]
    },
    {
      "cell_type": "code",
      "metadata": {
        "id": "d4tHYA72K2uS"
      },
      "source": [
        "x_train, x_test , y_train, y_test = train_test_split(x,y, test_size = 0.25, random_state = 5)"
      ],
      "execution_count": 28,
      "outputs": []
    },
    {
      "cell_type": "markdown",
      "metadata": {
        "id": "SOyERBTxLzgR"
      },
      "source": [
        "shape of the data"
      ]
    },
    {
      "cell_type": "code",
      "metadata": {
        "colab": {
          "base_uri": "https://localhost:8080/"
        },
        "id": "w_9O6MqSLwW9",
        "outputId": "a3e29004-93bb-4a94-f264-b4e2f11bf277"
      },
      "source": [
        "print(f'X-Train: {x_train.shape}\\nY-Train: {y_train.shape}')\r\n",
        "print(f'X-Test: {x_test.shape}\\nY-Test: {y_test.shape}')"
      ],
      "execution_count": 29,
      "outputs": [
        {
          "output_type": "stream",
          "text": [
            "X-Train: (150, 5)\n",
            "Y-Train: (150,)\n",
            "X-Test: (50, 5)\n",
            "Y-Test: (50,)\n"
          ],
          "name": "stdout"
        }
      ]
    },
    {
      "cell_type": "markdown",
      "metadata": {
        "id": "VAN0E6C-MuFc"
      },
      "source": [
        "## Modelling"
      ]
    },
    {
      "cell_type": "code",
      "metadata": {
        "colab": {
          "base_uri": "https://localhost:8080/"
        },
        "id": "LMx2RxUGMvW1",
        "outputId": "9866634c-0b01-47ed-d3e1-7d31fb224f04"
      },
      "source": [
        "model = DecisionTreeClassifier(criterion=\"entropy\")\r\n",
        "model"
      ],
      "execution_count": 32,
      "outputs": [
        {
          "output_type": "execute_result",
          "data": {
            "text/plain": [
              "DecisionTreeClassifier(ccp_alpha=0.0, class_weight=None, criterion='entropy',\n",
              "                       max_depth=None, max_features=None, max_leaf_nodes=None,\n",
              "                       min_impurity_decrease=0.0, min_impurity_split=None,\n",
              "                       min_samples_leaf=1, min_samples_split=2,\n",
              "                       min_weight_fraction_leaf=0.0, presort='deprecated',\n",
              "                       random_state=None, splitter='best')"
            ]
          },
          "metadata": {
            "tags": []
          },
          "execution_count": 32
        }
      ]
    },
    {
      "cell_type": "code",
      "metadata": {
        "colab": {
          "base_uri": "https://localhost:8080/"
        },
        "id": "bM0DnEdbM66t",
        "outputId": "f2ce5cf4-d4d9-4ff7-85a4-f54094a71092"
      },
      "source": [
        "model.fit(x_train,y_train)"
      ],
      "execution_count": 33,
      "outputs": [
        {
          "output_type": "execute_result",
          "data": {
            "text/plain": [
              "DecisionTreeClassifier(ccp_alpha=0.0, class_weight=None, criterion='entropy',\n",
              "                       max_depth=None, max_features=None, max_leaf_nodes=None,\n",
              "                       min_impurity_decrease=0.0, min_impurity_split=None,\n",
              "                       min_samples_leaf=1, min_samples_split=2,\n",
              "                       min_weight_fraction_leaf=0.0, presort='deprecated',\n",
              "                       random_state=None, splitter='best')"
            ]
          },
          "metadata": {
            "tags": []
          },
          "execution_count": 33
        }
      ]
    },
    {
      "cell_type": "markdown",
      "metadata": {
        "id": "KEdZ3WQ3UnPi"
      },
      "source": [
        "## Testing"
      ]
    },
    {
      "cell_type": "code",
      "metadata": {
        "colab": {
          "base_uri": "https://localhost:8080/"
        },
        "id": "xlcS9zITUmBv",
        "outputId": "7baba8c8-5a51-4cde-9413-511a19364fdc"
      },
      "source": [
        "predicted_y = model.predict(x_test)\r\n",
        "print(predicted_y[0:5])\r\n",
        "print(y_test[0:5])"
      ],
      "execution_count": 47,
      "outputs": [
        {
          "output_type": "stream",
          "text": [
            "['drugY' 'drugY' 'drugX' 'drugC' 'drugY']\n",
            "119    drugY\n",
            "77     drugY\n",
            "148    drugX\n",
            "149    drugC\n",
            "154    drugY\n",
            "Name: Drug, dtype: object\n"
          ],
          "name": "stdout"
        }
      ]
    },
    {
      "cell_type": "code",
      "metadata": {
        "colab": {
          "base_uri": "https://localhost:8080/"
        },
        "id": "zPjZNydqVD5y",
        "outputId": "89c15f2a-d51e-449b-93a0-20f039082acb"
      },
      "source": [
        "print(f'Decision Tree Accuracy:  {metrics.accuracy_score(y_test, predicted_y)}')"
      ],
      "execution_count": 48,
      "outputs": [
        {
          "output_type": "stream",
          "text": [
            "Decision Tree Accuracy:  1.0\n"
          ],
          "name": "stdout"
        }
      ]
    },
    {
      "cell_type": "markdown",
      "metadata": {
        "id": "lUsqy1qCT6EQ"
      },
      "source": [
        "## Visualization"
      ]
    },
    {
      "cell_type": "code",
      "metadata": {
        "colab": {
          "base_uri": "https://localhost:8080/",
          "height": 671
        },
        "id": "waOkCLzrRgBZ",
        "outputId": "f4789653-50ce-42d5-9547-65e54771cb5f"
      },
      "source": [
        "dt_features = [\"Age\",\"Sex\",\"BP\",\"Cholesterol\",\"Na_to_K\"]\r\n",
        "dt_class = y\r\n",
        "tree.plot_tree(model,feature_names=dt_features,class_names=dt_class,filled=True)"
      ],
      "execution_count": 42,
      "outputs": [
        {
          "output_type": "execute_result",
          "data": {
            "text/plain": [
              "[Text(348.75, 391.392, 'Na_to_K <= 14.829\\nentropy = 1.997\\nsamples = 150\\nvalue = [20, 12, 11, 43, 64]\\nclass = drugY'),\n",
              " Text(279.0, 304.416, 'BP <= 0.5\\nentropy = 1.765\\nsamples = 86\\nvalue = [20, 12, 11, 43, 0]\\nclass = drugX'),\n",
              " Text(139.5, 217.44, 'Age <= 50.5\\nentropy = 0.954\\nsamples = 32\\nvalue = [20, 12, 0, 0, 0]\\nclass = drugY'),\n",
              " Text(69.75, 130.464, 'entropy = 0.0\\nsamples = 20\\nvalue = [20, 0, 0, 0, 0]\\nclass = drugY'),\n",
              " Text(209.25, 130.464, 'entropy = 0.0\\nsamples = 12\\nvalue = [0, 12, 0, 0, 0]\\nclass = drugC'),\n",
              " Text(418.5, 217.44, 'Cholesterol <= 0.5\\nentropy = 0.729\\nsamples = 54\\nvalue = [0, 0, 11, 43, 0]\\nclass = drugX'),\n",
              " Text(348.75, 130.464, 'BP <= 1.5\\nentropy = 0.983\\nsamples = 26\\nvalue = [0, 0, 11, 15, 0]\\nclass = drugX'),\n",
              " Text(279.0, 43.488, 'entropy = 0.0\\nsamples = 11\\nvalue = [0, 0, 11, 0, 0]\\nclass = drugC'),\n",
              " Text(418.5, 43.488, 'entropy = 0.0\\nsamples = 15\\nvalue = [0, 0, 0, 15, 0]\\nclass = drugX'),\n",
              " Text(488.25, 130.464, 'entropy = 0.0\\nsamples = 28\\nvalue = [0, 0, 0, 28, 0]\\nclass = drugX'),\n",
              " Text(418.5, 304.416, 'entropy = 0.0\\nsamples = 64\\nvalue = [0, 0, 0, 0, 64]\\nclass = drugY')]"
            ]
          },
          "metadata": {
            "tags": []
          },
          "execution_count": 42
        },
        {
          "output_type": "display_data",
          "data": {
            "image/png": "[encoded data removed]",
            "text/plain": [
              "<Figure size 720x576 with 1 Axes>"
            ]
          },
          "metadata": {
            "tags": []
          }
        }
      ]
    }
  ]
}